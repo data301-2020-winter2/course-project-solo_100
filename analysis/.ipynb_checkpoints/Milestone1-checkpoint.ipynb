{
 "cells": [
  {
   "cell_type": "code",
   "execution_count": null,
   "id": "rural-nowhere",
   "metadata": {},
   "outputs": [],
   "source": [
    "# Milestone 1"
   ]
  },
  {
   "cell_type": "code",
   "execution_count": 7,
   "id": "mature-costs",
   "metadata": {},
   "outputs": [
    {
     "name": "stdout",
     "output_type": "stream",
     "text": [
      "                                               title  score      id  \\\n",
      "0  It's not about the money, it's about sending a...     55  l6ulcx   \n",
      "1  Math Professor Scott Steiner says the numbers ...    110  l6uibd   \n",
      "2                                    Exit the system      0  l6uhhn   \n",
      "3  NEW SEC FILING FOR GME! CAN SOMEONE LESS RETAR...     29  l6ugk6   \n",
      "4  Not to distract from GME, just thought our AMC...     71  l6ufgy   \n",
      "\n",
      "                                                 url  comms_num       created  \\\n",
      "0                    https://v.redd.it/6j75regs72e61          6  1.611863e+09   \n",
      "1                    https://v.redd.it/ah50lyny62e61         23  1.611862e+09   \n",
      "2  https://www.reddit.com/r/wallstreetbets/commen...         47  1.611862e+09   \n",
      "3  https://sec.report/Document/0001193125-21-019848/         74  1.611862e+09   \n",
      "4                https://i.redd.it/4h2sukb662e61.jpg        156  1.611862e+09   \n",
      "\n",
      "                                                body            timestamp  \n",
      "0                                                NaN  2021-01-28 21:37:41  \n",
      "1                                                NaN  2021-01-28 21:32:10  \n",
      "2  The CEO of NASDAQ pushed to halt trading “to g...  2021-01-28 21:30:35  \n",
      "3                                                NaN  2021-01-28 21:28:57  \n",
      "4                                                NaN  2021-01-28 21:26:56  \n"
     ]
    }
   ],
   "source": [
    "## Loading data \n",
    "import pandas as pd\n",
    "raw_df = pd.read_csv('../data/raw/reddit_wsb.csv')\n",
    "print(raw_df.head(5))"
   ]
  }
 ],
 "metadata": {
  "kernelspec": {
   "display_name": "Python 3",
   "language": "python",
   "name": "python3"
  },
  "language_info": {
   "codemirror_mode": {
    "name": "ipython",
    "version": 3
   },
   "file_extension": ".py",
   "mimetype": "text/x-python",
   "name": "python",
   "nbconvert_exporter": "python",
   "pygments_lexer": "ipython3",
   "version": "3.8.5"
  }
 },
 "nbformat": 4,
 "nbformat_minor": 5
}
