{
 "cells": [
  {
   "cell_type": "code",
   "execution_count": null,
   "id": "rural-nowhere",
   "metadata": {},
   "outputs": [],
   "source": [
    "# Milestone 1"
   ]
  },
  {
   "cell_type": "code",
   "execution_count": 1,
   "id": "mature-costs",
   "metadata": {},
   "outputs": [
    {
     "output_type": "stream",
     "name": "stdout",
     "text": [
      "                                               title  score      id  \\\n0  It's not about the money, it's about sending a...     55  l6ulcx   \n1  Math Professor Scott Steiner says the numbers ...    110  l6uibd   \n2                                    Exit the system      0  l6uhhn   \n3  NEW SEC FILING FOR GME! CAN SOMEONE LESS RETAR...     29  l6ugk6   \n4  Not to distract from GME, just thought our AMC...     71  l6ufgy   \n\n                                                 url  comms_num       created  \\\n0                    https://v.redd.it/6j75regs72e61          6  1.611863e+09   \n1                    https://v.redd.it/ah50lyny62e61         23  1.611862e+09   \n2  https://www.reddit.com/r/wallstreetbets/commen...         47  1.611862e+09   \n3  https://sec.report/Document/0001193125-21-019848/         74  1.611862e+09   \n4                https://i.redd.it/4h2sukb662e61.jpg        156  1.611862e+09   \n\n                                                body            timestamp  \n0                                                NaN  2021-01-28 21:37:41  \n1                                                NaN  2021-01-28 21:32:10  \n2  The CEO of NASDAQ pushed to halt trading “to g...  2021-01-28 21:30:35  \n3                                                NaN  2021-01-28 21:28:57  \n4                                                NaN  2021-01-28 21:26:56  \n"
     ]
    }
   ],
   "source": [
    "## Loading data \n",
    "import pandas as pd\n",
    "raw_df = pd.read_csv('../data/raw/reddit_wsb.csv')\n",
    "print(raw_df.head(5))"
   ]
  }
 ],
 "metadata": {
  "kernelspec": {
   "display_name": "Python 3",
   "language": "python",
   "name": "python3"
  },
  "language_info": {
   "codemirror_mode": {
    "name": "ipython",
    "version": 3
   },
   "file_extension": ".py",
   "mimetype": "text/x-python",
   "name": "python",
   "nbconvert_exporter": "python",
   "pygments_lexer": "ipython3",
   "version": "3.8.5-final"
  }
 },
 "nbformat": 4,
 "nbformat_minor": 5
}