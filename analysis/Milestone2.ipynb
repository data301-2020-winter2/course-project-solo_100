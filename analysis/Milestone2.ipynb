{
 "metadata": {
  "language_info": {
   "codemirror_mode": {
    "name": "ipython",
    "version": 3
   },
   "file_extension": ".py",
   "mimetype": "text/x-python",
   "name": "python",
   "nbconvert_exporter": "python",
   "pygments_lexer": "ipython3",
   "version": "3.8.5-final"
  },
  "orig_nbformat": 2,
  "kernelspec": {
   "name": "python3",
   "display_name": "Python 3.8.5 64-bit ('base': conda)",
   "metadata": {
    "interpreter": {
     "hash": "89f78e8ea71bd91bd1a3ee38063812006194f116ff1e01a2ddd5a7c15c18acb4"
    }
   }
  }
 },
 "nbformat": 4,
 "nbformat_minor": 2,
 "cells": [
  {
   "cell_type": "code",
   "execution_count": 9,
   "metadata": {},
   "outputs": [
    {
     "output_type": "stream",
     "name": "stdout",
     "text": [
      "                                                   title  score      id  \\\n",
      "0      It's not about the money, it's about sending a...     55  l6ulcx   \n",
      "1      Math Professor Scott Steiner says the numbers ...    110  l6uibd   \n",
      "2                                        Exit the system      0  l6uhhn   \n",
      "3      NEW SEC FILING FOR GME! CAN SOMEONE LESS RETAR...     29  l6ugk6   \n",
      "4      Not to distract from GME, just thought our AMC...     71  l6ufgy   \n",
      "...                                                  ...    ...     ...   \n",
      "33153                            Corsair Earnings Report    204  lg43fp   \n",
      "33154     (2/9) Tuesday's Pre-Market Stock Movers & News    102  lg438t   \n",
      "33155  $CRSR crushed expectations...and why it's the ...    983  lg3zf4   \n",
      "33156                                 🚀 AMD $105k YOLO 🚀   5108  lg3qns   \n",
      "33157  GME has 65,256 fewer puts active at close yest...   1597  lg3p3g   \n",
      "\n",
      "       num_of_comments                                               body  \\\n",
      "0                    6                                                NaN   \n",
      "1                   23                                                NaN   \n",
      "2                   47  The CEO of NASDAQ pushed to halt trading “to g...   \n",
      "3                   74                                                NaN   \n",
      "4                  156                                                NaN   \n",
      "...                ...                                                ...   \n",
      "33153              101  [https://ir.corsair.com/news-releases/news-rel...   \n",
      "33154               14  #Good morning traders and investors of the r/w...   \n",
      "33155              262  \\n$CRSR crushed earnings expectations...even b...   \n",
      "33156             1129  * AMD = OG YOLO\\n* IV near all-time low (cheap...   \n",
      "33157              350  **EDIT for shills in the comments**: no, I don...   \n",
      "\n",
      "                 timestamp  \n",
      "0      2021-01-28 21:37:41  \n",
      "1      2021-01-28 21:32:10  \n",
      "2      2021-01-28 21:30:35  \n",
      "3      2021-01-28 21:28:57  \n",
      "4      2021-01-28 21:26:56  \n",
      "...                    ...  \n",
      "33153  2021-02-10 00:10:34  \n",
      "33154  2021-02-10 00:10:18  \n",
      "33155  2021-02-10 00:04:54  \n",
      "33156  2021-02-09 23:52:21  \n",
      "33157  2021-02-09 23:50:00  \n",
      "\n",
      "[33158 rows x 6 columns]\n",
      "None\n"
     ]
    }
   ],
   "source": [
    "from scripts import project_functions\n",
    "df = project_functions.load_and_process('../data/raw/reddit_wsb.csv')\n",
    "df"
   ]
  },
  {
   "cell_type": "code",
   "execution_count": null,
   "metadata": {},
   "outputs": [],
   "source": []
  }
 ]
}